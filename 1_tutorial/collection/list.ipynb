{
 "cells": [
  {
   "cell_type": "markdown",
   "metadata": {},
   "source": [
    "# **List**"
   ]
  },
  {
   "cell_type": "markdown",
   "metadata": {},
   "source": [
    "Python có 4 kiểu dữ liệu dùng để lưu trữ tập hợp (collection): List, Tuple, Set, Dictionary, mỗi loại có đặc điểm khác nhau."
   ]
  },
  {
   "cell_type": "markdown",
   "metadata": {},
   "source": [
    "### List là gì"
   ]
  },
  {
   "cell_type": "markdown",
   "metadata": {},
   "source": [
    "- List là một kiểu dữ liệu trong Python, dùng để lưu trữ nhiều giá trị trong một biến duy nhất."
   ]
  },
  {
   "cell_type": "markdown",
   "metadata": {},
   "source": [
    "- List được định nghĩa là một đối tượng với loại dữ liệu là `list`"
   ]
  },
  {
   "cell_type": "code",
   "execution_count": 8,
   "metadata": {},
   "outputs": [
    {
     "name": "stdout",
     "output_type": "stream",
     "text": [
      "<class 'list'>\n"
     ]
    }
   ],
   "source": [
    "myList = [1, 2, 3]\n",
    "print(type(myList))"
   ]
  },
  {
   "cell_type": "markdown",
   "metadata": {},
   "source": [
    "### Kiểu dữ liệu trong List"
   ]
  },
  {
   "cell_type": "markdown",
   "metadata": {},
   "source": [
    "- List có thể chứa bất kỳ loại dữ liệu nào: chuỗi (str), số (int, float), hoặc boolean (true, false)"
   ]
  },
  {
   "cell_type": "code",
   "execution_count": null,
   "metadata": {},
   "outputs": [],
   "source": [
    "# Dữ liệu kiểu chuỗi\n",
    "list1 = [\"apple\", \"banana\", \"cherry\"]\n",
    "\n",
    "# Dữ liệu kiểu số nguyên\n",
    "list2 = [1, 5, 7, 9, 3]\n",
    "\n",
    "# Dữ liệu kiểu Boolean\n",
    "list3 = [True, False, False]\n",
    "\n",
    "# Danh sách chứa nhiều kiểu dữ liệu khác nhau\n",
    "list4 = [\"abc\", 34, True, 40, \"male\"]"
   ]
  },
  {
   "cell_type": "markdown",
   "metadata": {},
   "source": [
    "### Đặc điểm"
   ]
  },
  {
   "cell_type": "markdown",
   "metadata": {},
   "source": [
    "- Có thứ tự (Ordered)\n",
    "    - Các phần tử trong list có thứ tự cố định và không thay đổi vị trí trừ khi được sắp xếp lại bằng phương thức.\n",
    "\n",
    "    - Khi thêm mới, nó sẽ nằm ở cuối `list`\n",
    "\n",
    "- Có thể thay đổi (Changeable)\n",
    "    - Có thể thêm, xóa, hoặc cập nhật giá trị sau khi list được tạo.\n",
    "\n",
    "- Cho phép trùng lặp (Allow Duplicates)\n",
    "    - Các phần tử có thể trùng nhau.\n",
    "\n",
    "- Các phần tử trong list được đánh index\n",
    "    - Bắt đầu là 0"
   ]
  },
  {
   "cell_type": "code",
   "execution_count": null,
   "metadata": {},
   "outputs": [
    {
     "name": "stdout",
     "output_type": "stream",
     "text": [
      "['apple', 'banana', 'cherry', 'apple', 'cherry']\n"
     ]
    }
   ],
   "source": [
    "thisList = ['apple', 'banana', 'cherry', 'apple', 'cherry']\n",
    "print(thisList)"
   ]
  },
  {
   "cell_type": "markdown",
   "metadata": {},
   "source": [
    "# **Thao tác trên List**"
   ]
  },
  {
   "cell_type": "markdown",
   "metadata": {},
   "source": [
    "### Tạo List"
   ]
  },
  {
   "cell_type": "markdown",
   "metadata": {},
   "source": [
    "- List được tạo bằng dấu ngoặc vuông `[]`"
   ]
  },
  {
   "cell_type": "code",
   "execution_count": 9,
   "metadata": {},
   "outputs": [
    {
     "name": "stdout",
     "output_type": "stream",
     "text": [
      "['apple', 'banana', 'cherry']\n"
     ]
    }
   ],
   "source": [
    "thisList = ['apple', 'banana', 'cherry']\n",
    "print(thisList)"
   ]
  },
  {
   "cell_type": "markdown",
   "metadata": {},
   "source": [
    "- Có thể dùng hàm tạo list() (constructor) khi tạo một list mới"
   ]
  },
  {
   "cell_type": "code",
   "execution_count": null,
   "metadata": {},
   "outputs": [
    {
     "name": "stdout",
     "output_type": "stream",
     "text": [
      "['apple', 'banana', 'cherry']\n"
     ]
    }
   ],
   "source": [
    "thisList = list(('apple', 'banana', 'cherry'))\n",
    "print(thisList)"
   ]
  },
  {
   "cell_type": "markdown",
   "metadata": {},
   "source": [
    "### Xác định số lượng phần tử trong list"
   ]
  },
  {
   "cell_type": "markdown",
   "metadata": {},
   "source": [
    "- Dùng `len()` để biết số lượng phần tử trong list"
   ]
  },
  {
   "cell_type": "code",
   "execution_count": null,
   "metadata": {},
   "outputs": [
    {
     "name": "stdout",
     "output_type": "stream",
     "text": [
      "5\n"
     ]
    }
   ],
   "source": [
    "thisList = ['apple', 'banana', 'cherry', 'apple', 'cherry']\n",
    "print(len(thisList))"
   ]
  },
  {
   "cell_type": "markdown",
   "metadata": {},
   "source": [
    "### Truy cập phần tử trong List"
   ]
  },
  {
   "cell_type": "markdown",
   "metadata": {},
   "source": [
    "- Dùng chỉ mục\n",
    "    - Chỉ mục dương thì bắt đầu từ 0\n",
    "\n",
    "    - Chỉ mục âm giúp truy cập phần tử cuối danh sách\n",
    "\n",
    "        - VD: -1 là phần tử cuối, -2 là phần tử áp cuối,..."
   ]
  },
  {
   "cell_type": "code",
   "execution_count": 12,
   "metadata": {},
   "outputs": [
    {
     "name": "stdout",
     "output_type": "stream",
     "text": [
      "apple cherry\n",
      "cherry banana\n"
     ]
    }
   ],
   "source": [
    "# Chỉ mục dương\n",
    "thisList = [\"apple\", \"banana\", \"cherry\"]\n",
    "print(thisList[0], thisList[2])\n",
    "\n",
    "# Chỉ mục âm\n",
    "print(thisList[-1], thisList[-2])"
   ]
  },
  {
   "cell_type": "markdown",
   "metadata": {},
   "source": [
    "- Truy cập bằng phạm vi chỉ mục\n",
    "\n",
    "    - Cú pháp: `list[start:end]`\n",
    "        - Bắt đầu với chỉ mục `start` (included)\n",
    "\n",
    "        - Kết thúc tại chỉ mục `end` (not included)\n",
    "\n",
    "    - Sử dụng số âm để lấy phần tử từ cuối danh sách lên"
   ]
  },
  {
   "cell_type": "code",
   "execution_count": 18,
   "metadata": {},
   "outputs": [
    {
     "name": "stdout",
     "output_type": "stream",
     "text": [
      "['cherry', 'orange', 'kiwi']\n",
      "['apple', 'banana', 'cherry', 'orange', 'kiwi']\n",
      "['cherry', 'orange', 'kiwi', 'melon', 'mango']\n",
      "['orange', 'kiwi', 'melon']\n"
     ]
    }
   ],
   "source": [
    "thislist = [\"apple\", \"banana\", \"cherry\", \"orange\", \"kiwi\", \"melon\", \"mango\"]\n",
    "\n",
    "# Lấy phần tử từ vị trí thứ 3 đến 5\n",
    "print(thislist[2:5])\n",
    "\n",
    "# Bỏ `start`, bắt đầu từ đầu danh sách\n",
    "print(thislist[:5])\n",
    "\n",
    "# Bỏ `end`, lấy đến hết dánh sách\n",
    "print(thislist[2:])\n",
    "\n",
    "# Lấy phần tử từ -4 đến -1\n",
    "print(thislist[-4:-1])"
   ]
  },
  {
   "cell_type": "markdown",
   "metadata": {},
   "source": [
    "- Kiểm tra sự tồn tại của phần tử trong List\n",
    "    - Dùng từ khóa `in` để kiểm tra xem một phần tử có trong danh sách không"
   ]
  },
  {
   "cell_type": "code",
   "execution_count": 19,
   "metadata": {},
   "outputs": [
    {
     "name": "stdout",
     "output_type": "stream",
     "text": [
      "No\n"
     ]
    }
   ],
   "source": [
    "if \"pineapple\" in thislist:\n",
    "    print('Yes')\n",
    "else:\n",
    "    print('No')"
   ]
  },
  {
   "cell_type": "markdown",
   "metadata": {},
   "source": [
    "### Thay đổi giá trị phần tử cụ thể"
   ]
  },
  {
   "cell_type": "markdown",
   "metadata": {},
   "source": [
    "- Sử dụng chỉ mục của phần tử để thay đổi giá trị"
   ]
  },
  {
   "cell_type": "code",
   "execution_count": 20,
   "metadata": {},
   "outputs": [
    {
     "name": "stdout",
     "output_type": "stream",
     "text": [
      "['apple', 'blackcurry', 'cherry']\n"
     ]
    }
   ],
   "source": [
    "mylist = [\"apple\", \"banana\", \"cherry\"]\n",
    "mylist[1] = \"blackcurry\"\n",
    "print(mylist)"
   ]
  },
  {
   "cell_type": "markdown",
   "metadata": {},
   "source": [
    "- Thay đổi một phạm vi phần tử\n",
    "\n",
    "    - Thay thế nhiều phần tử bằng danh sách mới\n",
    "\n",
    "    - Độ dài của danh sách sẽ thay đổi khi số lượng mục được chèn không khớp với số lượng mục được thay thế"
   ]
  },
  {
   "cell_type": "code",
   "execution_count": 26,
   "metadata": {},
   "outputs": [
    {
     "name": "stdout",
     "output_type": "stream",
     "text": [
      "[1, 2, 3, 3, 3]\n",
      "['blackcurrant', 'watermelon', 2, 3, 3, 3]\n",
      "[1, 2, 3, 3, 3]\n"
     ]
    }
   ],
   "source": [
    "mylist[0:3] = [1, 2, 3]\n",
    "print(mylist)\n",
    "\n",
    "# Chèn nhiều phần tử hơn số phần tử thay thế\n",
    "mylist[0:1] = [\"blackcurrant\", \"watermelon\"]\n",
    "print(mylist)\n",
    "\n",
    "# Chèn ít phần tử hơn số phần tử thay thế\n",
    "mylist[0:2] = [1]\n",
    "print(mylist)"
   ]
  },
  {
   "cell_type": "markdown",
   "metadata": {},
   "source": [
    "### Thêm phần tử vào List"
   ]
  },
  {
   "cell_type": "markdown",
   "metadata": {},
   "source": [
    "- Thêm phần tử vào cuối danh sách\n",
    "\n",
    "    - Sử dụng `append()`"
   ]
  },
  {
   "cell_type": "code",
   "execution_count": null,
   "metadata": {},
   "outputs": [
    {
     "name": "stdout",
     "output_type": "stream",
     "text": [
      "['apple', 'banana', 'cherry', 'orange']\n"
     ]
    }
   ],
   "source": [
    "mylist = [\"apple\", \"banana\", \"cherry\"]\n",
    "mylist.append(\"orange\")\n",
    "print(mylist)"
   ]
  },
  {
   "cell_type": "markdown",
   "metadata": {},
   "source": [
    "- Chèn phần tử mới mà không thay thế phần tử cũ\n",
    "\n",
    "    - Phương thức `insert(index, value)` giúp chèn phần tử mà không thay thế giá trị cũ."
   ]
  },
  {
   "cell_type": "code",
   "execution_count": null,
   "metadata": {},
   "outputs": [
    {
     "name": "stdout",
     "output_type": "stream",
     "text": [
      "[1, 2, 3, 10, 3, 3]\n"
     ]
    }
   ],
   "source": [
    "# Chèn 10 vào vị trí thứ 3\n",
    "mylist.insert(3, 10)\n",
    "print(mylist)"
   ]
  },
  {
   "cell_type": "markdown",
   "metadata": {},
   "source": [
    "- Mở rộng danh sách\n",
    "\n",
    "    - Thêm toàn bộ các phần tử của một danh sách khác vào danh sách hiện tại bằng `extend()`\n",
    "\n",
    "    - Không chỉ giới hạn ở danh sách, nó có thể thêm dữ liệu từ tuple, set, dictionary,..."
   ]
  },
  {
   "cell_type": "code",
   "execution_count": 30,
   "metadata": {},
   "outputs": [
    {
     "name": "stdout",
     "output_type": "stream",
     "text": [
      "['apple', 'banana', 'cherry', 'mango', 'pineapple', 'papaya']\n",
      "['apple', 'banana', 'cherry', 'mango', 'pineapple', 'papaya', 'kiwi', 'orange']\n"
     ]
    }
   ],
   "source": [
    "thislist = [\"apple\", \"banana\", \"cherry\"]\n",
    "tropical = [\"mango\", \"pineapple\", \"papaya\"]\n",
    "thistuple = (\"kiwi\", \"orange\")\n",
    "\n",
    "# extend list\n",
    "thislist.extend(tropical)\n",
    "print(thislist)\n",
    "\n",
    "# extend tuple\n",
    "thislist.extend(thistuple)\n",
    "print(thislist)"
   ]
  }
 ],
 "metadata": {
  "kernelspec": {
   "display_name": "Python 3",
   "language": "python",
   "name": "python3"
  },
  "language_info": {
   "codemirror_mode": {
    "name": "ipython",
    "version": 3
   },
   "file_extension": ".py",
   "mimetype": "text/x-python",
   "name": "python",
   "nbconvert_exporter": "python",
   "pygments_lexer": "ipython3",
   "version": "3.12.1"
  }
 },
 "nbformat": 4,
 "nbformat_minor": 2
}
